{
  "nbformat": 4,
  "nbformat_minor": 0,
  "metadata": {
    "colab": {
      "provenance": []
    },
    "kernelspec": {
      "name": "python3",
      "display_name": "Python 3"
    },
    "language_info": {
      "name": "python"
    }
  },
  "cells": [
    {
      "cell_type": "markdown",
      "source": [
        "You’ll define a target number k, which refers to the number of centroids you need in the dataset. A centroid is the imaginary or real location representing the center of the cluster."
      ],
      "metadata": {
        "id": "mU3Vft14fdG4"
      }
    },
    {
      "cell_type": "markdown",
      "source": [
        "The ‘means’ in the K-means refers to averaging of the data; that is, finding the centroid."
      ],
      "metadata": {
        "id": "JADKj_XWNr1R"
      }
    },
    {
      "cell_type": "markdown",
      "source": [
        "K-means algorithm in data mining starts with a first group of randomly selected centroids, which are used as the beginning points for every cluster, and then performs iterative (repetitive) calculations to optimize the positions of the centroids"
      ],
      "metadata": {
        "id": "UYXoPq3vNtJR"
      }
    },
    {
      "cell_type": "markdown",
      "source": [
        "It halts creating and optimizing clusters when either:\n",
        "\n",
        "\n",
        "\n",
        "*  The centroids have stabilized — there is no change in their values because the clustering has been successful.\n",
        "*   The defined number of iterations has been achieved.\n",
        "\n",
        "\n"
      ],
      "metadata": {
        "id": "KcxOovyXNy5_"
      }
    },
    {
      "cell_type": "code",
      "source": [
        "import pandas as pd\n",
        "import numpy as np \n",
        "import matplotlib.pyplot as plt \n",
        "from sklearn.cluster import KMeans \n",
        "%matplotlib inline "
      ],
      "metadata": {
        "id": "4tPPELtCOBNW"
      },
      "execution_count": null,
      "outputs": []
    },
    {
      "cell_type": "code",
      "source": [
        "X= -2 * np.random.rand(200,2)\n",
        "X1 = 1 + 2 * np.random.rand(50,2)\n",
        "X2 = 3 + 2 * np.random.rand(50, 2)\n",
        "X3 = 5 + 4 * np.random.rand(50, 2)\n",
        "X[50:100, :] = X1\n",
        "X[100:150, :] = X2\n",
        "X[150:200, :] = X3\n",
        "plt.scatter(X[:, 0], X[:, 1], c='skyblue')"
      ],
      "metadata": {
        "colab": {
          "base_uri": "https://localhost:8080/",
          "height": 282
        },
        "id": "FmQgfyjnOezg",
        "outputId": "ae8d9167-e614-45c1-c02e-2d42109d494e"
      },
      "execution_count": null,
      "outputs": [
        {
          "output_type": "execute_result",
          "data": {
            "text/plain": [
              "<matplotlib.collections.PathCollection at 0x7f565d5cdeb0>"
            ]
          },
          "metadata": {},
          "execution_count": 50
        },
        {
          "output_type": "display_data",
          "data": {
            "text/plain": [
              "<Figure size 432x288 with 1 Axes>"
            ],
            "image/png": "[encoded data removed]"
          },
          "metadata": {
            "needs_background": "light"
          }
        }
      ]
    },
    {
      "cell_type": "code",
      "source": [
        "Kmean = KMeans(n_clusters = 4)\n",
        "Kmean.fit(X)"
      ],
      "metadata": {
        "colab": {
          "base_uri": "https://localhost:8080/"
        },
        "id": "iN2HJI3kPAqy",
        "outputId": "e6e0cdbc-c723-4e09-e681-ea4069c9d088"
      },
      "execution_count": null,
      "outputs": [
        {
          "output_type": "execute_result",
          "data": {
            "text/plain": [
              "KMeans(n_clusters=4)"
            ]
          },
          "metadata": {},
          "execution_count": 39
        }
      ]
    },
    {
      "cell_type": "code",
      "source": [
        "centers = Kmean.cluster_centers_"
      ],
      "metadata": {
        "id": "3Kn3B65mPV6J"
      },
      "execution_count": null,
      "outputs": []
    },
    {
      "cell_type": "code",
      "source": [
        "Kmean.labels_"
      ],
      "metadata": {
        "colab": {
          "base_uri": "https://localhost:8080/"
        },
        "id": "ben8A_WuS5Aw",
        "outputId": "61a58c46-caac-4edd-d617-55f43dd6f707"
      },
      "execution_count": null,
      "outputs": [
        {
          "output_type": "execute_result",
          "data": {
            "text/plain": [
              "array([2, 2, 2, 2, 2, 2, 2, 2, 2, 2, 2, 2, 2, 2, 2, 2, 2, 2, 2, 2, 2, 2,\n",
              "       2, 2, 2, 2, 2, 2, 2, 2, 2, 2, 2, 2, 2, 2, 2, 2, 2, 2, 2, 2, 2, 2,\n",
              "       2, 2, 2, 2, 2, 2, 1, 1, 1, 1, 1, 1, 1, 1, 1, 1, 1, 1, 1, 1, 1, 1,\n",
              "       1, 1, 1, 1, 1, 1, 1, 1, 1, 1, 1, 1, 1, 1, 1, 1, 1, 1, 1, 1, 1, 1,\n",
              "       1, 1, 1, 1, 1, 1, 1, 1, 1, 1, 1, 1, 3, 3, 3, 3, 3, 3, 3, 3, 3, 3,\n",
              "       3, 3, 3, 3, 3, 3, 3, 3, 3, 3, 3, 3, 3, 3, 3, 3, 3, 3, 3, 3, 3, 3,\n",
              "       3, 3, 3, 3, 3, 3, 3, 3, 3, 3, 3, 3, 3, 3, 3, 3, 3, 3, 0, 0, 0, 0,\n",
              "       0, 0, 0, 0, 0, 0, 0, 0, 0, 0, 0, 0, 0, 0, 3, 0, 0, 0, 0, 0, 0, 0,\n",
              "       0, 0, 0, 0, 0, 0, 0, 0, 0, 0, 0, 0, 0, 0, 0, 0, 0, 0, 0, 0, 0, 0,\n",
              "       0, 0], dtype=int32)"
            ]
          },
          "metadata": {},
          "execution_count": 41
        }
      ]
    },
    {
      "cell_type": "code",
      "source": [
        "plt.scatter(X[:, 0], X[:, 1], c='skyblue')\n",
        "plt.scatter(centers[0][0], centers[0][1])\n",
        "plt.scatter(centers[1][0], centers[1][1])\n",
        "plt.scatter(centers[2][0], centers[2][1])\n",
        "plt.scatter(centers[3][0], centers[3][1])"
      ],
      "metadata": {
        "colab": {
          "base_uri": "https://localhost:8080/",
          "height": 282
        },
        "id": "Tjgd9R9BTA1I",
        "outputId": "2b71931d-a4de-47ce-ec5c-437b6ae3bc0b"
      },
      "execution_count": null,
      "outputs": [
        {
          "output_type": "execute_result",
          "data": {
            "text/plain": [
              "<matplotlib.collections.PathCollection at 0x7f565d6036a0>"
            ]
          },
          "metadata": {},
          "execution_count": 49
        },
        {
          "output_type": "display_data",
          "data": {
            "text/plain": [
              "<Figure size 432x288 with 1 Axes>"
            ],
            "image/png": "[encoded data removed]"
          },
          "metadata": {
            "needs_background": "light"
          }
        }
      ]
    },
    {
      "cell_type": "code",
      "source": [
        "sample_test=np.array([-3.0,-3.0])\n",
        "second_test=sample_test.reshape(1, -1)\n",
        "print(second_test.shape)\n",
        "class_ = Kmean.predict(second_test)"
      ],
      "metadata": {
        "colab": {
          "base_uri": "https://localhost:8080/"
        },
        "id": "ziR_Fr2ZTxo6",
        "outputId": "876ce284-08ec-4354-df12-1b87a58ec881"
      },
      "execution_count": null,
      "outputs": [
        {
          "output_type": "stream",
          "name": "stdout",
          "text": [
            "(1, 2)\n"
          ]
        }
      ]
    },
    {
      "cell_type": "code",
      "source": [
        "plt.scatter(X[:, 0], X[:, 1])\n",
        "plt.scatter(sample_test[0], sample_test[1])\n",
        "class_center = [centers[class_[0]][0], centers[class_[0]][1]]\n",
        "plt.scatter(class_center[0], class_center[1])\n",
        "x_point = [sample_test[0], class_center[0]]\n",
        "y_point = [sample_test[1], class_center[1]]\n",
        "plt.plot(x_point, y_point, linestyle=\"--\")\n",
        "plt.text(-2.5, -1, round(((x_point[1]-x_point[0])**2 + (y_point[0]-y_point[1])**2), 2))"
      ],
      "metadata": {
        "colab": {
          "base_uri": "https://localhost:8080/",
          "height": 282
        },
        "id": "KoGhhAQFYUPY",
        "outputId": "be3999c5-2dfa-42ad-c963-df653016d0d2"
      },
      "execution_count": null,
      "outputs": [
        {
          "output_type": "execute_result",
          "data": {
            "text/plain": [
              "Text(-2.5, -1, '7.12')"
            ]
          },
          "metadata": {},
          "execution_count": 82
        },
        {
          "output_type": "display_data",
          "data": {
            "text/plain": [
              "<Figure size 432x288 with 1 Axes>"
            ],
            "image/png": "[encoded data removed]"
          },
          "metadata": {
            "needs_background": "light"
          }
        }
      ]
    }
  ]
}